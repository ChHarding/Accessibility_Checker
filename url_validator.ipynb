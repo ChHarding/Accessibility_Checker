{
 "cells": [
  {
   "cell_type": "code",
   "execution_count": 6,
   "metadata": {},
   "outputs": [],
   "source": [
    "#Block 2: Input handler URL validator\n",
    "import re\n",
    "import requests\n",
    "\n",
    "def valid_url(url):\n",
    "    return bool(re.match(r\"^(http|https)://\",url))\n",
    "\n",
    "def reachable_url(url):\n",
    "    try:\n",
    "        resp = requests.get (url,timeout=5)\n",
    "        return resp.status_code == 200, resp #status code\n",
    "    except requests.exceptions.RequestException as e:\n",
    "        print (\"Error when reaching site!\",e)\n",
    "        return False, None"
   ]
  }
 ],
 "metadata": {
  "kernelspec": {
   "display_name": "Python 3",
   "language": "python",
   "name": "python3"
  },
  "language_info": {
   "codemirror_mode": {
    "name": "ipython",
    "version": 3
   },
   "file_extension": ".py",
   "mimetype": "text/x-python",
   "name": "python",
   "nbconvert_exporter": "python",
   "pygments_lexer": "ipython3",
   "version": "3.13.1"
  }
 },
 "nbformat": 4,
 "nbformat_minor": 2
}
