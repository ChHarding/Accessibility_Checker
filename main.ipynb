{
 "cells": [
  {
   "cell_type": "markdown",
   "metadata": {},
   "source": [
    "Hi Professor\n",
    "I’m currently working in Jupyter Notebook to prototype and test each function of the project in isolation because I’m familiar with it."
   ]
  },
  {
   "cell_type": "markdown",
   "metadata": {},
   "source": [
    "Block 1 : User and Web interface | \n",
    "Block 2: Check URl validation"
   ]
  },
  {
   "cell_type": "code",
   "execution_count": 24,
   "metadata": {},
   "outputs": [],
   "source": [
    "# This will be converted into py file\n",
    "# Block:1 User and Web interface\n",
    "def get_url():\n",
    "    return input (\"Website URL\")"
   ]
  },
  {
   "cell_type": "code",
   "execution_count": null,
   "metadata": {},
   "outputs": [
    {
     "name": "stdout",
     "output_type": "stream",
     "text": [
      "You entered: https://www.drd.pr.gov/\n",
      "Site is reachable (status 200).\n"
     ]
    }
   ],
   "source": [
    "url = get_url()\n",
    "print(\"You entered:\", url)\n",
    "ok = False\n",
    "\n",
    "# Block2: check url validation\n",
    "if not valid_url(url):\n",
    "    print (\"Invalid format! Make sure it starts with http:// or https://\")\n",
    "else:\n",
    "    ok, response = reachable_url(url) \n",
    "    if not ok: \n",
    "        print (\"Sit not reachable. Check address or internet connection.\")\n",
    "    else:\n",
    "         print(f\"Site is reachable (status {response.status_code}).\")\n",
    "\n"
   ]
  },
  {
   "cell_type": "markdown",
   "metadata": {},
   "source": [
    "Block 3: Page Loader"
   ]
  },
  {
   "cell_type": "code",
   "execution_count": 57,
   "metadata": {},
   "outputs": [
    {
     "name": "stdout",
     "output_type": "stream",
     "text": [
      "Requirement already satisfied: playwright in /Library/Frameworks/Python.framework/Versions/3.13/lib/python3.13/site-packages (1.52.0)\n",
      "Requirement already satisfied: pyee<14,>=13 in /Library/Frameworks/Python.framework/Versions/3.13/lib/python3.13/site-packages (from playwright) (13.0.0)\n",
      "Requirement already satisfied: greenlet<4.0.0,>=3.1.1 in /Library/Frameworks/Python.framework/Versions/3.13/lib/python3.13/site-packages (from playwright) (3.2.3)\n",
      "Requirement already satisfied: typing-extensions in /Library/Frameworks/Python.framework/Versions/3.13/lib/python3.13/site-packages (from pyee<14,>=13->playwright) (4.13.2)\n",
      "\n",
      "\u001b[1m[\u001b[0m\u001b[34;49mnotice\u001b[0m\u001b[1;39;49m]\u001b[0m\u001b[39;49m A new release of pip is available: \u001b[0m\u001b[31;49m24.3.1\u001b[0m\u001b[39;49m -> \u001b[0m\u001b[32;49m25.1.1\u001b[0m\n",
      "\u001b[1m[\u001b[0m\u001b[34;49mnotice\u001b[0m\u001b[1;39;49m]\u001b[0m\u001b[39;49m To update, run: \u001b[0m\u001b[32;49mpip3 install --upgrade pip\u001b[0m\n",
      "Note: you may need to restart the kernel to use updated packages.\n"
     ]
    }
   ],
   "source": [
    "# Download  playwright \n",
    "%pip install playwright\n",
    "!playwright install"
   ]
  },
  {
   "cell_type": "code",
   "execution_count": 58,
   "metadata": {},
   "outputs": [],
   "source": [
    "# Block 3: Page Loader (AI generated)\n",
    "import nest_asyncio\n",
    "nest_asyncio.apply()\n",
    "from playwright.async_api import async_playwright\n",
    "\n",
    "async def load_page_data_async(url: str) -> dict:\n",
    "    \"\"\"\n",
    "    Async version: loads the page and returns a dict with:\n",
    "      - html (str)\n",
    "      - styles (list of dicts)\n",
    "      - elements (list of tag names)\n",
    "    \"\"\"\n",
    "    async with async_playwright() as p:\n",
    "        browser = await p.chromium.launch()\n",
    "        page    = await browser.new_page()\n",
    "        await page.goto(url, timeout=10000)\n",
    "\n",
    "        html = await page.content()\n",
    "        styles = await page.evaluate(\"\"\"() => {\n",
    "            const all = Array.from(document.querySelectorAll('*'));\n",
    "            return all.map(el => {\n",
    "                const cs = window.getComputedStyle(el);\n",
    "                return {\n",
    "                    tag: el.tagName,\n",
    "                    id: el.id || null,\n",
    "                    classes: el.className || null,\n",
    "                    color: cs.color,\n",
    "                    backgroundColor: cs.backgroundColor,\n",
    "                    fontSize: cs.fontSize,\n",
    "                    fontWeight: cs.fontWeight\n",
    "                };\n",
    "            });\n",
    "        }\"\"\")\n",
    "        await browser.close()\n",
    "\n",
    "    return {\n",
    "        \"html\": html,\n",
    "        \"styles\": styles,\n",
    "        \"elements\": [s[\"tag\"] for s in styles]\n",
    "    }"
   ]
  },
  {
   "cell_type": "code",
   "execution_count": 59,
   "metadata": {},
   "outputs": [
    {
     "name": "stdout",
     "output_type": "stream",
     "text": [
      "HTML length: 57035\n",
      "Elements found: 660\n",
      "First style record: {'tag': 'HTML', 'id': None, 'classes': 'w-mod-js w-mod-ix wf-montserrat-n9-active wf-montserrat-n1-active wf-montserrat-n7-active wf-montserrat-n5-active wf-montserrat-n4-active wf-montserrat-n2-active wf-montserrat-n3-active wf-montserrat-n6-active wf-montserrat-n8-active wf-montserrat-i4-active wf-montserrat-i9-active wf-montserrat-i6-active wf-montserrat-i8-active wf-montserrat-i2-active wf-montserrat-i7-active wf-montserrat-i5-active wf-montserrat-i3-active wf-montserrat-i1-active wf-active', 'color': 'rgb(0, 0, 0)', 'backgroundColor': 'rgba(0, 0, 0, 0)', 'fontSize': '16px', 'fontWeight': '400'}\n"
     ]
    }
   ],
   "source": [
    "if ok:\n",
    "    page_data = await load_page_data_async(url)\n",
    "    print(\"HTML length:\",      len(page_data[\"html\"]))\n",
    "    print(\"Elements found:\",   len(page_data[\"elements\"]))\n",
    "    print(\"First style record:\", page_data[\"styles\"][0])\n",
    "else:\n",
    "    print(\"Skipping page load because the URL is invalid or unreachable.\")"
   ]
  },
  {
   "cell_type": "markdown",
   "metadata": {},
   "source": [
    "Block 4: Accessibility Analyzer"
   ]
  },
  {
   "cell_type": "code",
   "execution_count": null,
   "metadata": {},
   "outputs": [],
   "source": [
    "# Block 4: Accessibility Analyzer\n",
    "# 1) Contrast \n",
    "%pip install wcag_contrast_ratio"
   ]
  },
  {
   "cell_type": "code",
   "execution_count": 83,
   "metadata": {},
   "outputs": [],
   "source": [
    "# Contrast \n",
    "# Playwright gives us colors like \"rgb(34, 34, 34)\". The contrast library prefers hex (#222222), so add this function:\n",
    "# 1) Contrast Checker \n",
    "\n",
    "import re\n",
    "import wcag_contrast_ratio as contrast #this is the WCAG contrast library\n",
    "\n",
    "def rgb_to_hex(rgb: str):\n",
    "    \"\"\"Convert rgb(r,g,b) to #rrggbb \"\"\" \n",
    "    rgb_match = re.match(r'rgba?\\(\\s*(\\d+),\\s*(\\d+),\\s*(\\d+)', rgb)\n",
    "    if not rgb_match: \n",
    "        return None\n",
    "    r, g, b = map(int, rgb_match.groups())\n",
    "    return f\"#{r:02x}{g:02x}{b:02x}\" #this builds the string for #rrggbb\n",
    "\n",
    "def check_contrast(styles: list[dict], min_ratio: float = 4.5) -> list[tuple[str, float]]: #AI helped me \n",
    "    \"\"\"\n",
    "    Returns a list of (text_snippet, ratio) for every element \n",
    "    whose contrast ratio < min_ratio.\n",
    "    \"\"\"\n",
    "    failures = []\n",
    "    #we are getting the raw css and converting it to hex\n",
    "    for item in styles:\n",
    "        fg = rgb_to_hex(item[\"color\"]) # foreground elemets text color \n",
    "        bg = rgb_to_hex(item[\"backgroundColor\"]) # backgroud color \n",
    "        if not fg or not bg:\n",
    "            continue\n",
    "        # Take each pair of hex digits (positions 1–2, 3–4, 5–6), convert from hex to int (0–255), then divide by 255 → 0.0–1.0 (AI Generated)\n",
    "        try:\n",
    "            tup_fg = tuple(int(fg[i:i+2], 16)/255 for i in (1,3,5))\n",
    "            tup_bg = tuple(int(bg[i:i+2], 16)/255 for i in (1,3,5))\n",
    "            r = contrast.rgb(tup_fg, tup_bg)\n",
    "        except Exception:\n",
    "            continue\n",
    "        if r < min_ratio:\n",
    "            # take up to first 30 chars of visible text\n",
    "            text = item.get(\"text\",\"\").strip().replace(\"\\n\",\" \")\n",
    "            # Truncate to 30 characters for readability, add ellipsis if needed\n",
    "            snippet = text[:30] + (\"…\" if len(text)>30 else \"\")\n",
    "            # If there’s no text at all, fall back to the tag name, e.g. \"<BUTTON>\"\n",
    "            failures.append((snippet or f\"<{item['tag']}>\", round(r,2)))\n",
    "    return failures\n",
    "\n",
    "\n",
    "# 2) Typography Checker\n",
    "# WCAG “large-scale text” thresholds (point sizes → CSS pixels at 96 dpi)\n",
    "lg_text_px      = 18 * 96/72   # 18 pt normal → 24 px Based on WCAG scale of large-scale text \n",
    "lg_bold_text_px = 14 * 96/72   # 14 pt bold   → ~18.66 px Based on WCAG scale of large-scale text \n",
    "def px_to_int(px: str):\n",
    "    if isinstance(px, str) and px.endswith(\"px\"): #isintance checks whether a value “is an instance of” a given type. Also we want to be sure that px is actually a string—otherwise Python would throw an error.\n",
    "        try:\n",
    "            return int(px[:-2])\n",
    "        except ValueError:\n",
    "            return None\n",
    "    return None\n",
    "def is_large_text(size: int, weight: int): \n",
    "    bool\n",
    "    if weight >= 700 and size >= lg_bold_text_px:\n",
    "        return True\n",
    "    if size >= lg_text_px:\n",
    "        return True\n",
    "    return False\n",
    "\n",
    "def check_typography(styles: list[dict]): \n",
    "    list[dict]\n",
    "    \"\"\"\n",
    "    Flags elements whose font-size/weight fall below WCAG minimum\n",
    "    for “large-scale text.”  Returns a list of dicts:\n",
    "      { tag, text_snippet, size, weight, is_large, needs_fix }\n",
    "    \"\"\"\n",
    "    issues = []\n",
    "    for item in styles:\n",
    "        raw_size   = item.get(\"fontSize\", \"\")\n",
    "        raw_weight = item.get(\"fontWeight\", \"\")\n",
    "\n",
    "        size   = px_to_int(raw_size)            # px as integer\n",
    "        try:\n",
    "            weight = int(raw_weight)            # CSS weight is numeric\n",
    "        except Exception:\n",
    "            continue  # skip if we can’t parse weight\n",
    "\n",
    "        if size is None:\n",
    "            continue  # skip if size wasn’t in px\n",
    "\n",
    "        large = is_large_text(size, weight)\n",
    "        # WCAG does *not* require a minimum size for large text,\n",
    "        # but for normal text it must be at least 18 pt (24 px).\n",
    "        needs_fix = not large and size < lg_text_px\n",
    "\n",
    "        if needs_fix:\n",
    "            text = item.get(\"text\", \"\").strip().replace(\"\\n\", \" \")\n",
    "            snippet = text[:30] + (\"…\" if len(text)>30 else \"\")\n",
    "            issues.append({\n",
    "                \"tag\":         item[\"tag\"],\n",
    "                \"text\":        snippet or f\"<{item['tag']}>\",\n",
    "                \"fontSize\":    size,\n",
    "                \"fontWeight\":  weight,\n",
    "                \"is_large\":    large,\n",
    "                \"needs_fix\":   needs_fix\n",
    "            })\n",
    "\n",
    "    return issues"
   ]
  },
  {
   "cell_type": "code",
   "execution_count": 87,
   "metadata": {},
   "outputs": [
    {
     "name": "stdout",
     "output_type": "stream",
     "text": [
      "Low-contrast elements: 512\n",
      " • “<HTML>” → ratio 1.0:1\n",
      " • “<HEAD>” → ratio 1.0:1\n",
      " • “<STYLE>” → ratio 1.0:1\n",
      " • “<META>” → ratio 1.0:1\n",
      " • “<TITLE>” → ratio 1.0:1\n",
      "\n",
      "Typography issues: 617\n",
      " • “<HTML>” size=16px weight=400 is_large=False needs_fix=True\n",
      " • “<HEAD>” size=16px weight=400 is_large=False needs_fix=True\n",
      " • “<STYLE>” size=16px weight=400 is_large=False needs_fix=True\n",
      " • “<META>” size=16px weight=400 is_large=False needs_fix=True\n",
      " • “<TITLE>” size=16px weight=400 is_large=False needs_fix=True\n",
      "Fields in each issue dict that need fix: dict_keys(['tag', 'text', 'fontSize', 'fontWeight', 'is_large', 'needs_fix'])\n"
     ]
    }
   ],
   "source": [
    "# Running it \n",
    "# 1) Contrast failures\n",
    "contrast_fails = check_contrast(page_data[\"styles\"])\n",
    "print(\"Low-contrast elements:\", len(contrast_fails))\n",
    "for text_snip, ratio in contrast_fails[:5]:\n",
    "    print(f\" • “{text_snip}” → ratio {ratio}:1\")\n",
    "\n",
    "# 2) Typography issues AI Helped\n",
    "typo_issues = check_typography(page_data[\"styles\"])\n",
    "print(\"\\nTypography issues:\", len(typo_issues))\n",
    "for issue in typo_issues[:5]:\n",
    "    print(\n",
    "        f\" • “{issue['text']}” size={issue['fontSize']}px \"\n",
    "        f\"weight={issue['fontWeight']} \"\n",
    "        f\"is_large={issue['is_large']} needs_fix={issue['needs_fix']}\"\n",
    "    )\n",
    "# Inspect the first issue’s keys\n",
    "if typo_issues:\n",
    "    print(\"Fields in each issue dict that need fix:\", typo_issues[0].keys())\n",
    "else:\n",
    "    print(\"No typography issues found!\")"
   ]
  }
 ],
 "metadata": {
  "kernelspec": {
   "display_name": "Python 3",
   "language": "python",
   "name": "python3"
  },
  "language_info": {
   "codemirror_mode": {
    "name": "ipython",
    "version": 3
   },
   "file_extension": ".py",
   "mimetype": "text/x-python",
   "name": "python",
   "nbconvert_exporter": "python",
   "pygments_lexer": "ipython3",
   "version": "3.13.1"
  }
 },
 "nbformat": 4,
 "nbformat_minor": 2
}
